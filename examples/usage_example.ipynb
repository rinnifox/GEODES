{
  "cells": [
    {
      "cell_type": "code",
      "execution_count": 1,
      "metadata": {
        "id": "E_zmG2qEhP_L"
      },
      "outputs": [],
      "source": [
        "from geodes import DescCalculator\n",
        "from geodes import calc_COM_protein\n",
        "from geodes import calc_prot_hel_dist"
      ]
    },
    {
      "cell_type": "code",
      "execution_count": 2,
      "metadata": {
        "id": "4MvdtPG2qVVN"
      },
      "outputs": [],
      "source": [
        "input_dir = './input_data/'"
      ]
    },
    {
      "cell_type": "code",
      "execution_count": 3,
      "metadata": {
        "id": "qQ9PGq5OEkiA"
      },
      "outputs": [],
      "source": [
        "# helices boundaries and charge clamp residues reference for hVDR\n",
        "href = [[127,142], [149,152], [218,222], [226,246], [257,265], [268, 278], [298,302], [308,322], [328,338], [350,369], [379,396], [397,406], [411,413], [417,423]]\n",
        "clamp_resid_h = [246, 264, 420]"
      ]
    },
    {
      "cell_type": "code",
      "execution_count": 4,
      "metadata": {
        "colab": {
          "base_uri": "https://localhost:8080/"
        },
        "id": "M9KTkW6_QXQJ",
        "outputId": "bbc05d04-cbb4-484f-829d-2d2a34dfe157"
      },
      "outputs": [
        {
          "data": {
            "text/plain": [
              "[np.float32(13.355535), np.float32(20.772703), np.float32(42.01453)]"
            ]
          },
          "execution_count": 4,
          "metadata": {},
          "output_type": "execute_result"
        }
      ],
      "source": [
        "# one descriptor calculation for a single file\n",
        "\n",
        "com_protein = calc_COM_protein(input_dir+'1DB1.pdb')\n",
        "com_protein"
      ]
    },
    {
      "cell_type": "code",
      "execution_count": 5,
      "metadata": {},
      "outputs": [
        {
          "data": {
            "text/plain": [
              "[np.float32(17.383366),\n",
              " np.float32(19.165474),\n",
              " np.float32(28.790037),\n",
              " np.float32(9.335318),\n",
              " np.float32(17.702364),\n",
              " np.float32(4.166907),\n",
              " np.float32(20.691032),\n",
              " np.float32(14.662197),\n",
              " np.float32(11.275689),\n",
              " np.float32(21.76158),\n",
              " np.float32(10.755531),\n",
              " np.float32(18.549198),\n",
              " np.float32(22.36438),\n",
              " np.float32(15.553819)]"
            ]
          },
          "execution_count": 5,
          "metadata": {},
          "output_type": "execute_result"
        }
      ],
      "source": [
        "# one descriptor calculation for a single file\n",
        "\n",
        "dist_COM_prothel = calc_prot_hel_dist(input_dir+'1DB1.pdb', href)\n",
        "dist_COM_prothel"
      ]
    },
    {
      "cell_type": "code",
      "execution_count": 6,
      "metadata": {
        "id": "jrBqa0b3Fki0"
      },
      "outputs": [],
      "source": [
        "# full calculation for a batch of files\n",
        "\n",
        "desc_config = {'descriptors': \n",
        "          [\n",
        "           'prot_hel_dist',\n",
        "           'pairwise_sep_dist',\n",
        "           'com_calpha_angles',\n",
        "           'len_of_hel',\n",
        "           'angles_between_hel',\n",
        "           'com_clamp',\n",
        "           'charge_clamp_dist',\n",
        "           'charge_clamp_angles',\n",
        "           'acc_per_hel',\n",
        "           'sse_content',\n",
        "           'dssp_hel', \n",
        "           'dssp_extra'\n",
        "          ]\n",
        "         }\n",
        "\n",
        "calculator = DescCalculator(href, clamp_resid_h, config=desc_config)"
      ]
    },
    {
      "cell_type": "code",
      "execution_count": 21,
      "metadata": {
        "colab": {
          "base_uri": "https://localhost:8080/"
        },
        "id": "-aCf0MJrFlK6",
        "outputId": "475b2162-68cb-4d80-c617-164fa1528536"
      },
      "outputs": [
        {
          "name": "stderr",
          "output_type": "stream",
          "text": [
            "  0%|          | 0/2 [00:00<?, ?it/s]"
          ]
        },
        {
          "name": "stdout",
          "output_type": "stream",
          "text": [
            "calculating structure - ./input_data/1IE8.pdb\n"
          ]
        },
        {
          "name": "stderr",
          "output_type": "stream",
          "text": [
            " 50%|█████     | 1/2 [00:01<00:01,  1.88s/it]"
          ]
        },
        {
          "name": "stdout",
          "output_type": "stream",
          "text": [
            "calculating structure - ./input_data/1DB1.pdb\n"
          ]
        },
        {
          "name": "stderr",
          "output_type": "stream",
          "text": [
            "100%|██████████| 2/2 [00:03<00:00,  1.88s/it]\n"
          ]
        }
      ],
      "source": [
        "df_hprep = calculator.calc_all(input_dir, save_to_csv=False, parallel=False)"
      ]
    },
    {
      "cell_type": "code",
      "execution_count": 23,
      "metadata": {
        "colab": {
          "base_uri": "https://localhost:8080/",
          "height": 297
        },
        "id": "LElDRQQrO8a0",
        "outputId": "836355bf-3fa0-451d-a472-eb82b68db1d0"
      },
      "outputs": [
        {
          "data": {
            "text/html": [
              "<div>\n",
              "<style scoped>\n",
              "    .dataframe tbody tr th:only-of-type {\n",
              "        vertical-align: middle;\n",
              "    }\n",
              "\n",
              "    .dataframe tbody tr th {\n",
              "        vertical-align: top;\n",
              "    }\n",
              "\n",
              "    .dataframe thead th {\n",
              "        text-align: right;\n",
              "    }\n",
              "</style>\n",
              "<table border=\"1\" class=\"dataframe\">\n",
              "  <thead>\n",
              "    <tr style=\"text-align: right;\">\n",
              "      <th></th>\n",
              "      <th>prot_name</th>\n",
              "      <th>Dist prot-H1</th>\n",
              "      <th>Dist prot-H2</th>\n",
              "      <th>Dist prot-H3</th>\n",
              "      <th>Dist prot-H4</th>\n",
              "      <th>Dist prot-H5</th>\n",
              "      <th>Dist prot-H6</th>\n",
              "      <th>Dist prot-H7</th>\n",
              "      <th>Dist prot-H8</th>\n",
              "      <th>Dist prot-H9</th>\n",
              "      <th>...</th>\n",
              "      <th>DSSP end_H6</th>\n",
              "      <th>DSSP end_H7</th>\n",
              "      <th>DSSP end_H8</th>\n",
              "      <th>DSSP end_H9</th>\n",
              "      <th>DSSP end_H10</th>\n",
              "      <th>DSSP end_H11</th>\n",
              "      <th>DSSP end_H12</th>\n",
              "      <th>DSSP end_H13</th>\n",
              "      <th>DSSP end_H14</th>\n",
              "      <th>N_res extra helical</th>\n",
              "    </tr>\n",
              "  </thead>\n",
              "  <tbody>\n",
              "    <tr>\n",
              "      <th>0</th>\n",
              "      <td>1IE8.pdb</td>\n",
              "      <td>17.357864</td>\n",
              "      <td>19.127840</td>\n",
              "      <td>28.591221</td>\n",
              "      <td>9.301376</td>\n",
              "      <td>17.515961</td>\n",
              "      <td>4.182082</td>\n",
              "      <td>20.480171</td>\n",
              "      <td>14.527995</td>\n",
              "      <td>11.256910</td>\n",
              "      <td>...</td>\n",
              "      <td>367</td>\n",
              "      <td>378</td>\n",
              "      <td>396</td>\n",
              "      <td>397</td>\n",
              "      <td>405</td>\n",
              "      <td>410</td>\n",
              "      <td>413</td>\n",
              "      <td>416</td>\n",
              "      <td>421</td>\n",
              "      <td>0</td>\n",
              "    </tr>\n",
              "    <tr>\n",
              "      <th>1</th>\n",
              "      <td>1DB1.pdb</td>\n",
              "      <td>17.383366</td>\n",
              "      <td>19.165474</td>\n",
              "      <td>28.790037</td>\n",
              "      <td>9.335318</td>\n",
              "      <td>17.702364</td>\n",
              "      <td>4.166907</td>\n",
              "      <td>20.691032</td>\n",
              "      <td>14.662197</td>\n",
              "      <td>11.275689</td>\n",
              "      <td>...</td>\n",
              "      <td>370</td>\n",
              "      <td>379</td>\n",
              "      <td>396</td>\n",
              "      <td>397</td>\n",
              "      <td>405</td>\n",
              "      <td>0</td>\n",
              "      <td>0</td>\n",
              "      <td>416</td>\n",
              "      <td>421</td>\n",
              "      <td>6</td>\n",
              "    </tr>\n",
              "  </tbody>\n",
              "</table>\n",
              "<p>2 rows × 285 columns</p>\n",
              "</div>"
            ],
            "text/plain": [
              "  prot_name  Dist prot-H1  Dist prot-H2  Dist prot-H3  Dist prot-H4  \\\n",
              "0  1IE8.pdb     17.357864     19.127840     28.591221      9.301376   \n",
              "1  1DB1.pdb     17.383366     19.165474     28.790037      9.335318   \n",
              "\n",
              "   Dist prot-H5  Dist prot-H6  Dist prot-H7  Dist prot-H8  Dist prot-H9  ...  \\\n",
              "0     17.515961      4.182082     20.480171     14.527995     11.256910  ...   \n",
              "1     17.702364      4.166907     20.691032     14.662197     11.275689  ...   \n",
              "\n",
              "   DSSP end_H6  DSSP end_H7  DSSP end_H8  DSSP end_H9  DSSP end_H10  \\\n",
              "0          367          378          396          397           405   \n",
              "1          370          379          396          397           405   \n",
              "\n",
              "   DSSP end_H11  DSSP end_H12  DSSP end_H13  DSSP end_H14  N_res extra helical  \n",
              "0           410           413           416           421                    0  \n",
              "1             0             0           416           421                    6  \n",
              "\n",
              "[2 rows x 285 columns]"
            ]
          },
          "execution_count": 23,
          "metadata": {},
          "output_type": "execute_result"
        }
      ],
      "source": [
        "df_hprep.head(5)"
      ]
    },
    {
      "cell_type": "code",
      "execution_count": 20,
      "metadata": {
        "id": "4ovTTkI2aXQr"
      },
      "outputs": [],
      "source": [
        "df_hprep.to_csv('./output_data/output.csv')"
      ]
    }
  ],
  "metadata": {
    "colab": {
      "collapsed_sections": [
        "LTUp-k_iqGzk"
      ],
      "provenance": []
    },
    "kernelspec": {
      "display_name": "Python 3",
      "name": "python3"
    },
    "language_info": {
      "codemirror_mode": {
        "name": "ipython",
        "version": 3
      },
      "file_extension": ".py",
      "mimetype": "text/x-python",
      "name": "python",
      "nbconvert_exporter": "python",
      "pygments_lexer": "ipython3",
      "version": "3.10.10"
    }
  },
  "nbformat": 4,
  "nbformat_minor": 0
}
